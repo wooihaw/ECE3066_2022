{
 "cells": [
  {
   "cell_type": "markdown",
   "id": "61c0ca08",
   "metadata": {},
   "source": [
    "# ECE3066 Artificial Intelligence Systems and Applications"
   ]
  },
  {
   "cell_type": "markdown",
   "id": "c7a8ee03",
   "metadata": {},
   "source": [
    "## Chapter 2 Part 1"
   ]
  },
  {
   "cell_type": "markdown",
   "id": "e0812719",
   "metadata": {},
   "source": [
    "### Slide 16"
   ]
  },
  {
   "cell_type": "code",
   "execution_count": null,
   "id": "72aacb39",
   "metadata": {},
   "outputs": [],
   "source": [
    "# A list is a collection of items in a specific order\n",
    "alist = [57, 4.6, 'Hello', -7.5, 'world']\n",
    "\n",
    "# A dictionary holds information in pairs of data called key-value pairs.\n",
    "adict = {'name': 'Tan', 'age':45}"
   ]
  },
  {
   "cell_type": "markdown",
   "id": "b664e90c",
   "metadata": {},
   "source": [
    "### Slide 17"
   ]
  },
  {
   "cell_type": "code",
   "execution_count": null,
   "id": "933aa1a9",
   "metadata": {},
   "outputs": [],
   "source": [
    "# assign the integer value 3 to variable a\n",
    "a = 3\n",
    "# assign the decimal value 4.0 to variable b\n",
    "b = 4.0\n",
    "# assign the string 'Abc123' to variable c\n",
    "c = 'Abc123'"
   ]
  },
  {
   "cell_type": "markdown",
   "id": "9c440c30",
   "metadata": {},
   "source": [
    "### Slide 18"
   ]
  },
  {
   "cell_type": "code",
   "execution_count": null,
   "id": "9e43627b",
   "metadata": {},
   "outputs": [],
   "source": [
    "# Python supports multiple assignments:\n",
    "a = b = 0\n",
    "c, d = -3.4, 5 + 6j\n",
    "c, d = d, c\n",
    "\n",
    "# To determine the data type of a variable:\n",
    "print(type(a))\n",
    "print(type(c))\n",
    "print(type(d))\n",
    "\n",
    "# To convert between data types:\n",
    "a = 5\n",
    "b = float(a)\n",
    "c = str(a)\n",
    "d = int(23.4)"
   ]
  },
  {
   "cell_type": "markdown",
   "id": "c86871fa",
   "metadata": {},
   "source": [
    "### Slide 21"
   ]
  },
  {
   "cell_type": "code",
   "execution_count": null,
   "id": "a6e8b5cb",
   "metadata": {},
   "outputs": [],
   "source": [
    "# Using format method:\n",
    "a, b, c = 6, 'apples', 1.5\n",
    "print('{} {} cost ${:.2f}'.format(a, b, c))\n",
    "\n",
    "# Using f-string for string formatting (Python 3.6 and above):\n",
    "a, b, c = 6, 'apples', 1.5\n",
    "print(f'{a} {b} cost ${c:.2f}')"
   ]
  },
  {
   "cell_type": "markdown",
   "id": "7491c39e",
   "metadata": {},
   "source": [
    "### Slide 23"
   ]
  },
  {
   "cell_type": "code",
   "execution_count": null,
   "id": "db6e3feb",
   "metadata": {},
   "outputs": [],
   "source": [
    "mark = 51\n",
    "if mark >= 50:\n",
    "    print(\"You passed the test!\")\n",
    "else:\n",
    "    print(\"You failed the test!\")\n",
    "\n",
    "a = \"Passed\" if mark>=50 else \"Failed\""
   ]
  },
  {
   "cell_type": "markdown",
   "id": "3d945767",
   "metadata": {},
   "source": [
    "### Slide 24"
   ]
  },
  {
   "cell_type": "code",
   "execution_count": null,
   "id": "0360fac0",
   "metadata": {},
   "outputs": [],
   "source": [
    "mark = 51\n",
    "if mark >= 70:\n",
    "    print(\"You scored an 'A'!\")\n",
    "elif mark >= 60:\n",
    "    print(\"You scored a 'B'!\")\n",
    "elif mark >= 50:\n",
    "    print(\"You scored a 'C'!\")\n",
    "else:\n",
    "    print(\"You failed the test!\")"
   ]
  },
  {
   "cell_type": "markdown",
   "id": "cbdf501d",
   "metadata": {},
   "source": [
    "### Slide 25"
   ]
  },
  {
   "cell_type": "code",
   "execution_count": null,
   "id": "ee53bfa7",
   "metadata": {},
   "outputs": [],
   "source": [
    "range(5)\n",
    "range(1, 11)\n",
    "range(2, 10, 2)"
   ]
  },
  {
   "cell_type": "markdown",
   "id": "738d9109",
   "metadata": {},
   "source": [
    "### Slide 26"
   ]
  },
  {
   "cell_type": "code",
   "execution_count": null,
   "id": "08c44977",
   "metadata": {},
   "outputs": [],
   "source": [
    "# To print the numbers from 0 to 9:\n",
    "for i in range(10):\n",
    "    print(i)\n",
    "    \n",
    "# To print even number from 2 to 8:\n",
    "i = 0\n",
    "while i < 10:\n",
    "    i += 2\n",
    "    print(i)"
   ]
  },
  {
   "cell_type": "markdown",
   "id": "8a168bc8",
   "metadata": {},
   "source": [
    "### Slide 27"
   ]
  },
  {
   "cell_type": "code",
   "execution_count": null,
   "id": "8d726503",
   "metadata": {},
   "outputs": [],
   "source": [
    "# Using a loop to generate a list of square numbers:\n",
    "squares = []\n",
    "for i in range(1, 11):\n",
    "    squares.append(i**2)\n",
    "    \n",
    "# Using list comprehension to generate the same list:\n",
    "squares = [i**2 for i in range(1, 11)]\n",
    "\n",
    "# Using list comprehension to capitalize the first alphabet of the names in a list:\n",
    "names = ['ali', 'bala', 'chan', 'david']\n",
    "cap_names = [n.capitalize() for n in names]\n",
    "print(cap_names)"
   ]
  },
  {
   "cell_type": "markdown",
   "id": "01784ca5",
   "metadata": {},
   "source": [
    "### Slide 30"
   ]
  },
  {
   "cell_type": "code",
   "execution_count": null,
   "id": "68932d19",
   "metadata": {},
   "outputs": [],
   "source": [
    "# Read and store the contents of a file as a string:\n",
    "with open('atext.txt', 'r') as f:\n",
    "    astring = f.read() # including newline character\n",
    "\n",
    "# Read one line of a file and store it as a string:\n",
    "with open('atext.txt', 'r') as f:\n",
    "    astring2 = f.readline()  # including newline character\n",
    "\n",
    "# Read and store the contents of a file as a list of lines:\n",
    "with open('atext.txt', 'r') as f:\n",
    "    alist = f.readlines() # including newline character"
   ]
  },
  {
   "cell_type": "markdown",
   "id": "df62f289",
   "metadata": {},
   "source": [
    "### Slide 31"
   ]
  },
  {
   "cell_type": "code",
   "execution_count": null,
   "id": "d7e33acf",
   "metadata": {},
   "outputs": [],
   "source": [
    "# Write a string to a file:\n",
    "with open('atext.txt', 'w') as f:\n",
    "    f.write(astring) # newline character is not appended\n",
    "\n",
    "# Write a list to a file:\n",
    "with open('atext.txt', 'w') as f:\n",
    "    f.writelines(alist)  # newline character is not appended"
   ]
  }
 ],
 "metadata": {
  "kernelspec": {
   "display_name": "Python 3",
   "language": "python",
   "name": "python3"
  },
  "language_info": {
   "codemirror_mode": {
    "name": "ipython",
    "version": 3
   },
   "file_extension": ".py",
   "mimetype": "text/x-python",
   "name": "python",
   "nbconvert_exporter": "python",
   "pygments_lexer": "ipython3",
   "version": "3.9.4"
  }
 },
 "nbformat": 4,
 "nbformat_minor": 5
}
