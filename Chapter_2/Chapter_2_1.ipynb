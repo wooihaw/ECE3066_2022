{
 "cells": [
  {
   "cell_type": "markdown",
   "id": "10e8d6ab",
   "metadata": {
    "colab_type": "text",
    "id": "view-in-github"
   },
   "source": [
    "<a href=\"https://colab.research.google.com/github/wooihaw/ECE3066_T2120/blob/main/Chapter_2/Chapter_2_1.ipynb\" target=\"_parent\"><img src=\"https://colab.research.google.com/assets/colab-badge.svg\" alt=\"Open In Colab\"/></a>"
   ]
  },
  {
   "cell_type": "markdown",
   "id": "61c0ca08",
   "metadata": {
    "id": "61c0ca08"
   },
   "source": [
    "# ECE3066 Artificial Intelligence Systems and Applications"
   ]
  },
  {
   "cell_type": "markdown",
   "id": "c7a8ee03",
   "metadata": {
    "id": "c7a8ee03"
   },
   "source": [
    "## Chapter 2 Part 1"
   ]
  },
  {
   "cell_type": "markdown",
   "id": "e0812719",
   "metadata": {
    "id": "e0812719"
   },
   "source": [
    "### Slide 16"
   ]
  },
  {
   "cell_type": "code",
   "execution_count": 1,
   "id": "4fc3bc76",
   "metadata": {
    "id": "72aacb39"
   },
   "outputs": [],
   "source": [
    "# A list is a collection of items in a specific order\n",
    "alist = [57, 4.6, 'Hello', -7.5, 'world']\n",
    "\n",
    "# A dictionary holds information in pairs of data called key-value pairs.\n",
    "adict = {'name': 'Tan', 'age':45}"
   ]
  },
  {
   "cell_type": "code",
   "execution_count": 60,
   "id": "EOd25gbtL6hF",
   "metadata": {
    "colab": {
     "base_uri": "https://localhost:8080/"
    },
    "id": "EOd25gbtL6hF",
    "outputId": "c2c669e9-484a-40b9-fcb7-d50e7808be98"
   },
   "outputs": [
    {
     "name": "stdout",
     "output_type": "stream",
     "text": [
      "<class 'list'> <class 'dict'>\n"
     ]
    }
   ],
   "source": [
    "# Check the data type of the variables\n",
    "print(type(alist), type(adict))"
   ]
  },
  {
   "cell_type": "markdown",
   "id": "b664e90c",
   "metadata": {
    "id": "b664e90c"
   },
   "source": [
    "### Slide 17"
   ]
  },
  {
   "cell_type": "code",
   "execution_count": 61,
   "id": "933aa1a9",
   "metadata": {
    "id": "933aa1a9"
   },
   "outputs": [],
   "source": [
    "# assign the integer value 3 to variable a\n",
    "a = 3\n",
    "# assign the decimal value 4.0 to variable b\n",
    "b = 4.0\n",
    "# assign the string 'Abc123' to variable c\n",
    "c = 'Abc123'"
   ]
  },
  {
   "cell_type": "code",
   "execution_count": 62,
   "id": "a5DKzb41MUuN",
   "metadata": {
    "colab": {
     "base_uri": "https://localhost:8080/"
    },
    "id": "a5DKzb41MUuN",
    "outputId": "1d72e9d7-23e8-43d5-e374-d513f4e45d46"
   },
   "outputs": [
    {
     "name": "stdout",
     "output_type": "stream",
     "text": [
      "<class 'int'> <class 'float'> <class 'str'>\n",
      "28\n"
     ]
    }
   ],
   "source": [
    "print(type(a), type(b), type(c))\n",
    "print(a.__sizeof__())  # check the size (in bytes) of the variable"
   ]
  },
  {
   "cell_type": "markdown",
   "id": "9c440c30",
   "metadata": {
    "id": "9c440c30"
   },
   "source": [
    "### Slide 18"
   ]
  },
  {
   "cell_type": "code",
   "execution_count": 63,
   "id": "9e43627b",
   "metadata": {
    "colab": {
     "base_uri": "https://localhost:8080/"
    },
    "id": "9e43627b",
    "outputId": "65f9f3c0-6f6f-4f37-f15f-5845b49c17b9"
   },
   "outputs": [
    {
     "name": "stdout",
     "output_type": "stream",
     "text": [
      "<class 'int'>\n",
      "<class 'complex'>\n",
      "<class 'float'>\n"
     ]
    }
   ],
   "source": [
    "# Python supports multiple assignments:\n",
    "a = b = 0\n",
    "c, d = -3.4, 5 + 6j\n",
    "c, d = d, c\n",
    "\n",
    "# To determine the data type of a variable:\n",
    "print(type(a))\n",
    "print(type(c))\n",
    "print(type(d))\n",
    "\n",
    "# To convert between data types:\n",
    "a = 5\n",
    "b = float(a)\n",
    "c = str(a)\n",
    "d = int(23.4)"
   ]
  },
  {
   "cell_type": "markdown",
   "id": "c86871fa",
   "metadata": {
    "id": "c86871fa"
   },
   "source": [
    "### Slide 21"
   ]
  },
  {
   "cell_type": "code",
   "execution_count": 64,
   "id": "a6e8b5cb",
   "metadata": {
    "colab": {
     "base_uri": "https://localhost:8080/"
    },
    "id": "a6e8b5cb",
    "outputId": "47620a22-121b-473d-8526-2a6e51a0ba5e"
   },
   "outputs": [
    {
     "name": "stdout",
     "output_type": "stream",
     "text": [
      "6 apples cost $1.50\n",
      "6 apples cost $1.50\n"
     ]
    }
   ],
   "source": [
    "# Using format method:\n",
    "a, b, c = 6, 'apples', 1.5\n",
    "print('{} {} cost ${:.2f}'.format(a, b, c))\n",
    "\n",
    "# Using f-string for string formatting (Python 3.6 and above):\n",
    "a, b, c = 6, 'apples', 1.5\n",
    "print(f'{a} {b} cost ${c:.2f}')"
   ]
  },
  {
   "cell_type": "markdown",
   "id": "7491c39e",
   "metadata": {
    "id": "7491c39e"
   },
   "source": [
    "### Slide 23"
   ]
  },
  {
   "cell_type": "code",
   "execution_count": 1,
   "id": "db6e3feb",
   "metadata": {
    "id": "db6e3feb"
   },
   "outputs": [
    {
     "name": "stdout",
     "output_type": "stream",
     "text": [
      "You passed the test!\n"
     ]
    }
   ],
   "source": [
    "mark = 51\n",
    "if mark >= 50:\n",
    "    print(\"You passed the test!\")\n",
    "else:\n",
    "    print(\"You failed the test!\")\n",
    "\n",
    "a = \"Passed\" if mark>=50 else \"Failed\""
   ]
  },
  {
   "cell_type": "markdown",
   "id": "3d945767",
   "metadata": {
    "id": "3d945767"
   },
   "source": [
    "### Slide 24"
   ]
  },
  {
   "cell_type": "code",
   "execution_count": 2,
   "id": "0360fac0",
   "metadata": {
    "id": "0360fac0"
   },
   "outputs": [
    {
     "name": "stdout",
     "output_type": "stream",
     "text": [
      "You scored a 'C'!\n"
     ]
    }
   ],
   "source": [
    "mark = 51\n",
    "if mark >= 70:\n",
    "    print(\"You scored an 'A'!\")\n",
    "elif mark >= 60:\n",
    "    print(\"You scored a 'B'!\")\n",
    "elif mark >= 50:\n",
    "    print(\"You scored a 'C'!\")\n",
    "else:\n",
    "    print(\"You failed the test!\")"
   ]
  },
  {
   "cell_type": "markdown",
   "id": "cbdf501d",
   "metadata": {
    "id": "cbdf501d"
   },
   "source": [
    "### Slide 25"
   ]
  },
  {
   "cell_type": "code",
   "execution_count": 3,
   "id": "ee53bfa7",
   "metadata": {
    "id": "ee53bfa7"
   },
   "outputs": [
    {
     "data": {
      "text/plain": [
       "range(2, 10, 2)"
      ]
     },
     "execution_count": 3,
     "metadata": {},
     "output_type": "execute_result"
    }
   ],
   "source": [
    "range(5)\n",
    "range(1, 11)\n",
    "range(2, 10, 2)"
   ]
  },
  {
   "cell_type": "markdown",
   "id": "738d9109",
   "metadata": {
    "id": "738d9109"
   },
   "source": [
    "### Slide 26"
   ]
  },
  {
   "cell_type": "code",
   "execution_count": 4,
   "id": "08c44977",
   "metadata": {
    "id": "08c44977"
   },
   "outputs": [
    {
     "name": "stdout",
     "output_type": "stream",
     "text": [
      "0\n",
      "1\n",
      "2\n",
      "3\n",
      "4\n",
      "5\n",
      "6\n",
      "7\n",
      "8\n",
      "9\n",
      "2\n",
      "4\n",
      "6\n",
      "8\n",
      "10\n"
     ]
    }
   ],
   "source": [
    "# To print the numbers from 0 to 9:\n",
    "for i in range(10):\n",
    "    print(i)\n",
    "    \n",
    "# To print even number from 2 to 8:\n",
    "i = 0\n",
    "while i < 10:\n",
    "    i += 2\n",
    "    print(i)"
   ]
  },
  {
   "cell_type": "markdown",
   "id": "8a168bc8",
   "metadata": {
    "id": "8a168bc8"
   },
   "source": [
    "### Slide 27"
   ]
  },
  {
   "cell_type": "code",
   "execution_count": 5,
   "id": "8d726503",
   "metadata": {
    "id": "8d726503"
   },
   "outputs": [
    {
     "name": "stdout",
     "output_type": "stream",
     "text": [
      "['Ali', 'Bala', 'Chan', 'David']\n"
     ]
    }
   ],
   "source": [
    "# Using a loop to generate a list of square numbers:\n",
    "squares = []\n",
    "for i in range(1, 11):\n",
    "    squares.append(i**2)\n",
    "    \n",
    "# Using list comprehension to generate the same list:\n",
    "squares = [i**2 for i in range(1, 11)]\n",
    "\n",
    "# Using list comprehension to capitalize the first alphabet of the names in a list:\n",
    "names = ['ali', 'bala', 'chan', 'david']\n",
    "cap_names = [n.capitalize() for n in names]\n",
    "print(cap_names)"
   ]
  },
  {
   "cell_type": "markdown",
   "id": "01784ca5",
   "metadata": {
    "id": "01784ca5"
   },
   "source": [
    "### Slide 30"
   ]
  },
  {
   "cell_type": "code",
   "execution_count": 8,
   "id": "3f904234",
   "metadata": {
    "id": "68932d19"
   },
   "outputs": [
    {
     "name": "stdout",
     "output_type": "stream",
     "text": [
      "This is line 1.\n",
      "This is line 2.\n",
      "This is line 3.\n"
     ]
    }
   ],
   "source": [
    "# Read and store the contents of a file as a string:\n",
    "with open('atext.txt', 'r') as f:\n",
    "    astring = f.read() # including newline character\n",
    "print(astring)"
   ]
  },
  {
   "cell_type": "code",
   "execution_count": 9,
   "id": "bba13179",
   "metadata": {
    "id": "68932d19"
   },
   "outputs": [
    {
     "name": "stdout",
     "output_type": "stream",
     "text": [
      "This is line 1.\n",
      "\n"
     ]
    }
   ],
   "source": [
    "# Read one line of a file and store it as a string:\n",
    "with open('atext.txt', 'r') as f:\n",
    "    astring2 = f.readline()  # including newline character\n",
    "print(astring2)"
   ]
  },
  {
   "cell_type": "code",
   "execution_count": 10,
   "id": "75d8e56f",
   "metadata": {
    "id": "68932d19"
   },
   "outputs": [
    {
     "name": "stdout",
     "output_type": "stream",
     "text": [
      "['This is line 1.\\n', 'This is line 2.\\n', 'This is line 3.']\n"
     ]
    }
   ],
   "source": [
    "# Read and store the contents of a file as a list of lines:\n",
    "with open('atext.txt', 'r') as f:\n",
    "    alist = f.readlines() # including newline character\n",
    "print(alist)"
   ]
  },
  {
   "cell_type": "markdown",
   "id": "df62f289",
   "metadata": {
    "id": "df62f289"
   },
   "source": [
    "### Slide 31"
   ]
  },
  {
   "cell_type": "code",
   "execution_count": 11,
   "id": "aed04798",
   "metadata": {
    "id": "d7e33acf"
   },
   "outputs": [],
   "source": [
    "# Write a string to a file:\n",
    "astring = 'ECE3066 Artificial Intelligence Systems and Applications'\n",
    "with open('atext.txt', 'w') as f:\n",
    "    f.write(astring) # newline character is not appended"
   ]
  },
  {
   "cell_type": "code",
   "execution_count": 13,
   "id": "d7e33acf",
   "metadata": {
    "id": "d7e33acf"
   },
   "outputs": [],
   "source": [
    "alist = ['Line 1\\n', 'Line 2\\n', 'Line 3\\n']\n",
    "# Write a list to a file:\n",
    "with open('atext.txt', 'w') as f:\n",
    "    f.writelines(alist)  # newline character is not appended"
   ]
  },
  {
   "cell_type": "markdown",
   "id": "12e39c64",
   "metadata": {},
   "source": [
    "### Slide 40"
   ]
  },
  {
   "cell_type": "code",
   "execution_count": 2,
   "id": "f9a25898",
   "metadata": {},
   "outputs": [
    {
     "name": "stdout",
     "output_type": "stream",
     "text": [
      "[1 2 3]\n"
     ]
    }
   ],
   "source": [
    "import numpy as np\n",
    "# Create a NumPy array from a Python list\n",
    "array = np.array([1, 2, 3])\n",
    "print(array)"
   ]
  },
  {
   "cell_type": "code",
   "execution_count": 3,
   "id": "333d4fd3",
   "metadata": {},
   "outputs": [
    {
     "name": "stdout",
     "output_type": "stream",
     "text": [
      "[1, 2, 3, 1, 2, 3]\n"
     ]
    }
   ],
   "source": [
    "alist = [1, 2, 3]  # Python list\n",
    "print(2 * alist)"
   ]
  },
  {
   "cell_type": "code",
   "execution_count": 4,
   "id": "225c77c4",
   "metadata": {},
   "outputs": [
    {
     "name": "stdout",
     "output_type": "stream",
     "text": [
      "[2 4 6]\n"
     ]
    }
   ],
   "source": [
    "print(2 * array)"
   ]
  },
  {
   "cell_type": "code",
   "execution_count": 5,
   "id": "1786e1c4",
   "metadata": {
    "scrolled": true
   },
   "outputs": [
    {
     "name": "stdout",
     "output_type": "stream",
     "text": [
      "[0 0 0 0 0]\n"
     ]
    }
   ],
   "source": [
    "# Create a 5-integer array filled with zeros\n",
    "a = np.zeros(5, dtype=int)\n",
    "print(a)"
   ]
  },
  {
   "cell_type": "code",
   "execution_count": 6,
   "id": "e3fa9af5",
   "metadata": {},
   "outputs": [
    {
     "name": "stdout",
     "output_type": "stream",
     "text": [
      "[[1. 1.]\n",
      " [1. 1.]\n",
      " [1. 1.]]\n"
     ]
    }
   ],
   "source": [
    "# Create a 3x2 floating-point array filled with 1s\n",
    "b = np.ones((3, 2), dtype=float)\n",
    "print(b)"
   ]
  },
  {
   "cell_type": "code",
   "execution_count": 7,
   "id": "58c7db77",
   "metadata": {},
   "outputs": [
    {
     "name": "stdout",
     "output_type": "stream",
     "text": [
      "[[3.14 3.14 3.14]\n",
      " [3.14 3.14 3.14]]\n"
     ]
    }
   ],
   "source": [
    "# Create a 2x3 array filled with 3.14\n",
    "c = np.full((2, 3), 3.14)\n",
    "print(c)"
   ]
  },
  {
   "cell_type": "markdown",
   "id": "b3062837",
   "metadata": {},
   "source": [
    "### Slide 41"
   ]
  },
  {
   "cell_type": "code",
   "execution_count": 8,
   "id": "2533a1f1",
   "metadata": {},
   "outputs": [
    {
     "name": "stdout",
     "output_type": "stream",
     "text": [
      "[0.  0.5 1.  1.5 2.  2.5]\n"
     ]
    }
   ],
   "source": [
    "import numpy as np\n",
    "# Create an array filled with linear sequence\n",
    "# Starting at 0, ending at 3, stepping by 0.5\n",
    "d = np.arange(0, 3, 0.5)\n",
    "print(d)"
   ]
  },
  {
   "cell_type": "code",
   "execution_count": 9,
   "id": "38da377c",
   "metadata": {},
   "outputs": [
    {
     "name": "stdout",
     "output_type": "stream",
     "text": [
      "[0.   0.25 0.5  0.75 1.  ]\n"
     ]
    }
   ],
   "source": [
    "# Create an array of 5 values evenly spaced from 0 to 1\n",
    "e = np.linspace(0, 1, 5)\n",
    "print(e)"
   ]
  },
  {
   "cell_type": "code",
   "execution_count": 11,
   "id": "dd25571f",
   "metadata": {},
   "outputs": [
    {
     "name": "stdout",
     "output_type": "stream",
     "text": [
      "[[0.94202929 0.87569415 0.18728438]\n",
      " [0.95843607 0.31290576 0.97378391]\n",
      " [0.67169342 0.36626613 0.4123    ]]\n"
     ]
    }
   ],
   "source": [
    "# Create a 3x3 array of uniformly distributed random\n",
    "# values between 0 and 1\n",
    "f = np.random.random((3, 3))\n",
    "print(f)"
   ]
  },
  {
   "cell_type": "markdown",
   "id": "dac91d49",
   "metadata": {},
   "source": [
    "### Slide 42"
   ]
  },
  {
   "cell_type": "code",
   "execution_count": 12,
   "id": "95c74944",
   "metadata": {},
   "outputs": [
    {
     "name": "stdout",
     "output_type": "stream",
     "text": [
      "[[0 5 7]\n",
      " [7 8 9]]\n"
     ]
    }
   ],
   "source": [
    "import numpy as np\n",
    "# Create a 2x3 array of random integers in interval [0, 10)\n",
    "x = np.random.randint(0, 10, (2, 3))\n",
    "print(x)"
   ]
  },
  {
   "cell_type": "code",
   "execution_count": 13,
   "id": "46453207",
   "metadata": {},
   "outputs": [
    {
     "name": "stdout",
     "output_type": "stream",
     "text": [
      "2\n",
      "(2, 3)\n",
      "6\n"
     ]
    }
   ],
   "source": [
    "print(x.ndim)    # dimensionality\n",
    "print(x.shape)   # shape of array\n",
    "print(x.size)    # number of element"
   ]
  },
  {
   "cell_type": "code",
   "execution_count": 14,
   "id": "6d07104f",
   "metadata": {},
   "outputs": [
    {
     "name": "stdout",
     "output_type": "stream",
     "text": [
      "5\n",
      "9\n",
      "[7 8 9]\n",
      "[7 9]\n",
      "[[5 7]\n",
      " [8 9]]\n"
     ]
    }
   ],
   "source": [
    "print(x[0, 1])   # element at row 0, column 1\n",
    "\n",
    "print(x[1, -1])  # element at row 1, last column (column 2)\n",
    "\n",
    "print(x[1, :])   # elements at row 1\n",
    "\n",
    "print(x[:, -1])  # elements at last column (column 2)\n",
    "\n",
    "print(x[:2, 1:]) # elements at row 0-1, column 1-2"
   ]
  },
  {
   "cell_type": "markdown",
   "id": "d14d8dcb",
   "metadata": {},
   "source": [
    "### Slide 43"
   ]
  },
  {
   "cell_type": "code",
   "execution_count": 15,
   "id": "d12a1c05",
   "metadata": {},
   "outputs": [
    {
     "name": "stdout",
     "output_type": "stream",
     "text": [
      "[0 1 2 3 4 5 6 7 8 9]\n"
     ]
    }
   ],
   "source": [
    "import numpy as np\n",
    "# Create a 10-integer array from 0 to 9\n",
    "y = np.arange(0, 10)\n",
    "print(y)"
   ]
  },
  {
   "cell_type": "code",
   "execution_count": 18,
   "id": "055fda1f",
   "metadata": {},
   "outputs": [
    {
     "name": "stdout",
     "output_type": "stream",
     "text": [
      "[[0 1 2 3 4]\n",
      " [5 6 7 8 9]]\n"
     ]
    }
   ],
   "source": [
    "# Reshape to a 2x5 array\n",
    "print(y.reshape(2, 5))"
   ]
  },
  {
   "cell_type": "code",
   "execution_count": 19,
   "id": "66aa4e4d",
   "metadata": {},
   "outputs": [
    {
     "name": "stdout",
     "output_type": "stream",
     "text": [
      "[[0 1]\n",
      " [2 3]\n",
      " [4 5]\n",
      " [6 7]\n",
      " [8 9]]\n"
     ]
    }
   ],
   "source": [
    "# Reshape to an array with 5 rows\n",
    "# number of columns will be automatically calculated\n",
    "print(y.reshape(5, -1))"
   ]
  },
  {
   "cell_type": "markdown",
   "id": "35895055",
   "metadata": {},
   "source": [
    "### Slide 44"
   ]
  },
  {
   "cell_type": "code",
   "execution_count": 1,
   "id": "f84c2765",
   "metadata": {},
   "outputs": [
    {
     "name": "stdout",
     "output_type": "stream",
     "text": [
      "[[0 1 2]\n",
      " [3 4 5]]\n"
     ]
    }
   ],
   "source": [
    "import numpy as np\n",
    "z = np.arange(0, 6).reshape(2, 3)\n",
    "print(z)"
   ]
  },
  {
   "cell_type": "code",
   "execution_count": 2,
   "id": "fb78048a",
   "metadata": {},
   "outputs": [
    {
     "name": "stdout",
     "output_type": "stream",
     "text": [
      "[[0 1 2]\n",
      " [3 4 5]\n",
      " [0 1 2]\n",
      " [3 4 5]]\n"
     ]
    }
   ],
   "source": [
    "# Stack arrays vertically\n",
    "aa = np.vstack([z, z])\n",
    "print(aa)"
   ]
  },
  {
   "cell_type": "code",
   "execution_count": 3,
   "id": "e4416679",
   "metadata": {},
   "outputs": [
    {
     "name": "stdout",
     "output_type": "stream",
     "text": [
      "[[0 1 2 0 1 2]\n",
      " [3 4 5 3 4 5]]\n"
     ]
    }
   ],
   "source": [
    "# Stack arrays horizontally\n",
    "print(np.hstack([z, z]))"
   ]
  },
  {
   "cell_type": "code",
   "execution_count": 4,
   "id": "0ad519fd",
   "metadata": {},
   "outputs": [
    {
     "name": "stdout",
     "output_type": "stream",
     "text": [
      "[[0 1 2]]\n"
     ]
    }
   ],
   "source": [
    "# Split array vertically\n",
    "upper, lower = np.vsplit(aa, [1])\n",
    "print(upper)"
   ]
  },
  {
   "cell_type": "code",
   "execution_count": 5,
   "id": "c77e38ca",
   "metadata": {
    "scrolled": true
   },
   "outputs": [
    {
     "name": "stdout",
     "output_type": "stream",
     "text": [
      "[[2]\n",
      " [5]\n",
      " [2]\n",
      " [5]]\n"
     ]
    }
   ],
   "source": [
    "# Split array horizontally\n",
    "left, right = np.hsplit(aa, [2])\n",
    "print(right)"
   ]
  },
  {
   "cell_type": "markdown",
   "id": "04e300a0",
   "metadata": {},
   "source": [
    "### Slide 47"
   ]
  },
  {
   "cell_type": "code",
   "execution_count": 6,
   "id": "4974d9dc",
   "metadata": {},
   "outputs": [
    {
     "name": "stdout",
     "output_type": "stream",
     "text": [
      "0    3620\n",
      "1    7891\n",
      "2    9761\n",
      "3    3907\n",
      "4    4338\n",
      "5    5373\n",
      "Name: steps, dtype: int64\n"
     ]
    }
   ],
   "source": [
    "import pandas as pd\n",
    "\n",
    "step_data = [3620, 7891, 9761, 3907, 4338, 5373]\n",
    "\n",
    "step_counts = pd.Series(step_data, name='steps')\n",
    "\n",
    "print(step_counts) "
   ]
  },
  {
   "cell_type": "code",
   "execution_count": 7,
   "id": "fd369e2b",
   "metadata": {},
   "outputs": [
    {
     "name": "stdout",
     "output_type": "stream",
     "text": [
      "2015-03-29    3620\n",
      "2015-03-30    7891\n",
      "2015-03-31    9761\n",
      "2015-04-01    3907\n",
      "2015-04-02    4338\n",
      "2015-04-03    5373\n",
      "Freq: D, Name: steps, dtype: int64\n"
     ]
    }
   ],
   "source": [
    "# Add a date range to the Series\n",
    "step_counts.index = pd.date_range('20150329', periods=6)\n",
    "\n",
    "print(step_counts)"
   ]
  },
  {
   "cell_type": "markdown",
   "id": "00b99553",
   "metadata": {},
   "source": [
    "### Slide 48"
   ]
  },
  {
   "cell_type": "code",
   "execution_count": 8,
   "id": "28070498",
   "metadata": {},
   "outputs": [
    {
     "name": "stdout",
     "output_type": "stream",
     "text": [
      "3907\n",
      "3907\n"
     ]
    }
   ],
   "source": [
    "# Just like a dictionary\n",
    "print(step_counts['2015-04-01'])\n",
    "# Or by index position--like an array\n",
    "print(step_counts[3])"
   ]
  },
  {
   "cell_type": "code",
   "execution_count": 9,
   "id": "e671d113",
   "metadata": {},
   "outputs": [
    {
     "name": "stdout",
     "output_type": "stream",
     "text": [
      "2015-04-01    3907\n",
      "2015-04-02    4338\n",
      "2015-04-03    5373\n",
      "Freq: D, Name: steps, dtype: int64\n"
     ]
    }
   ],
   "source": [
    "# Select all of April\n",
    "print(step_counts['2015-04'])"
   ]
  },
  {
   "cell_type": "markdown",
   "id": "9ace6f67",
   "metadata": {},
   "source": [
    "### Slide 49"
   ]
  },
  {
   "cell_type": "code",
   "execution_count": 10,
   "id": "33520c94",
   "metadata": {},
   "outputs": [
    {
     "name": "stdout",
     "output_type": "stream",
     "text": [
      "int64\n"
     ]
    }
   ],
   "source": [
    "import numpy as np\n",
    "# View the data type\n",
    "print(step_counts.dtypes)"
   ]
  },
  {
   "cell_type": "code",
   "execution_count": 11,
   "id": "b296dae5",
   "metadata": {},
   "outputs": [
    {
     "name": "stdout",
     "output_type": "stream",
     "text": [
      "float64\n"
     ]
    }
   ],
   "source": [
    "# Convert to a float\n",
    "step_counts = step_counts.astype(np.float)\n",
    "\n",
    "# View the data type\n",
    "print(step_counts.dtypes)"
   ]
  },
  {
   "cell_type": "markdown",
   "id": "a1b55b05",
   "metadata": {},
   "source": [
    "### Slide 50"
   ]
  },
  {
   "cell_type": "code",
   "execution_count": 12,
   "id": "5d434c52",
   "metadata": {},
   "outputs": [
    {
     "name": "stdout",
     "output_type": "stream",
     "text": [
      "2015-03-29    3620.0\n",
      "2015-03-30       NaN\n",
      "2015-03-31       NaN\n",
      "2015-04-01    3907.0\n",
      "2015-04-02    4338.0\n",
      "2015-04-03    5373.0\n",
      "Freq: D, Name: steps, dtype: float64\n",
      "2015-03-30    0.0\n",
      "2015-03-31    0.0\n",
      "Freq: D, Name: steps, dtype: float64\n"
     ]
    }
   ],
   "source": [
    "# Create invalid data\n",
    "step_counts[1:3] = np.NaN\n",
    "print(step_counts)\n",
    "\n",
    "# Now fill it in with zeros\n",
    "step_counts = step_counts.fillna(0.)\n",
    "# equivalently, \n",
    "# step_counts.fillna(0., inplace=True)\n",
    "\n",
    "print(step_counts[1:3])"
   ]
  },
  {
   "cell_type": "markdown",
   "id": "c539258c",
   "metadata": {},
   "source": [
    "### Slide 51"
   ]
  },
  {
   "cell_type": "code",
   "execution_count": 13,
   "id": "f941d9a1",
   "metadata": {},
   "outputs": [
    {
     "name": "stdout",
     "output_type": "stream",
     "text": [
      "      0     1\n",
      "0  3620  10.7\n",
      "1  7891   0.0\n",
      "2  9761   NaN\n",
      "3  3907   2.4\n",
      "4  4338  15.3\n",
      "5  5373  10.9\n"
     ]
    }
   ],
   "source": [
    "# Step data\n",
    "step_data = [3620, 7891, 9761, 3907, 4338, 5373]\n",
    "\n",
    "# Cycling distance\n",
    "cycling_data = [10.7, 0, None, 2.4, 15.3, 10.9, 0, None]\n",
    "\n",
    "# Create a tuple of data\n",
    "joined_data = list(zip(step_data, cycling_data))\n",
    "\n",
    "# The dataframe\n",
    "activity_df = pd.DataFrame(joined_data)\n",
    "\n",
    "print(activity_df)"
   ]
  },
  {
   "cell_type": "markdown",
   "id": "8a89414b",
   "metadata": {},
   "source": [
    "### Slide 52"
   ]
  },
  {
   "cell_type": "code",
   "execution_count": 14,
   "id": "dd8b3846",
   "metadata": {},
   "outputs": [
    {
     "name": "stdout",
     "output_type": "stream",
     "text": [
      "            Walking  Cycling\n",
      "2015-03-29     3620     10.7\n",
      "2015-03-30     7891      0.0\n",
      "2015-03-31     9761      NaN\n",
      "2015-04-01     3907      2.4\n",
      "2015-04-02     4338     15.3\n",
      "2015-04-03     5373     10.9\n"
     ]
    }
   ],
   "source": [
    "# Add column names to dataframe\n",
    "activity_df = pd.DataFrame(joined_data, \n",
    "                           index=pd.date_range('20150329', \n",
    "                                               periods=6), \n",
    "                           columns=['Walking','Cycling'])\n",
    "\n",
    "print(activity_df)"
   ]
  },
  {
   "cell_type": "markdown",
   "id": "4efb3311",
   "metadata": {},
   "source": [
    "### Slide 53"
   ]
  },
  {
   "cell_type": "code",
   "execution_count": 15,
   "id": "cd518c9a",
   "metadata": {},
   "outputs": [
    {
     "name": "stdout",
     "output_type": "stream",
     "text": [
      "Walking    3907.0\n",
      "Cycling       2.4\n",
      "Name: 2015-04-01 00:00:00, dtype: float64\n"
     ]
    }
   ],
   "source": [
    "# Select row of data by index name\n",
    "print(activity_df.loc['2015-04-01'])"
   ]
  },
  {
   "cell_type": "code",
   "execution_count": 16,
   "id": "edaeb643",
   "metadata": {},
   "outputs": [
    {
     "name": "stdout",
     "output_type": "stream",
     "text": [
      "Walking    3907.0\n",
      "Cycling       2.4\n",
      "Name: 2015-04-01 00:00:00, dtype: float64\n"
     ]
    }
   ],
   "source": [
    "# Select row of data by integer position\n",
    "print(activity_df.iloc[-3])"
   ]
  },
  {
   "cell_type": "markdown",
   "id": "0a47a910",
   "metadata": {},
   "source": [
    "### Slide 54"
   ]
  },
  {
   "cell_type": "code",
   "execution_count": 17,
   "id": "1b52dec2",
   "metadata": {},
   "outputs": [
    {
     "name": "stdout",
     "output_type": "stream",
     "text": [
      "2015-03-29    3620\n",
      "2015-03-30    7891\n",
      "2015-03-31    9761\n",
      "2015-04-01    3907\n",
      "2015-04-02    4338\n",
      "2015-04-03    5373\n",
      "Freq: D, Name: Walking, dtype: int64\n"
     ]
    }
   ],
   "source": [
    "# Dictionary approach\n",
    "print(activity_df['Walking'])"
   ]
  },
  {
   "cell_type": "code",
   "execution_count": 18,
   "id": "03ee6979",
   "metadata": {},
   "outputs": [
    {
     "name": "stdout",
     "output_type": "stream",
     "text": [
      "2015-03-29    3620\n",
      "2015-03-30    7891\n",
      "2015-03-31    9761\n",
      "2015-04-01    3907\n",
      "2015-04-02    4338\n",
      "2015-04-03    5373\n",
      "Freq: D, Name: Walking, dtype: int64\n"
     ]
    }
   ],
   "source": [
    "# Object-oriented approach\n",
    "print(activity_df.Walking)"
   ]
  },
  {
   "cell_type": "markdown",
   "id": "e709f770",
   "metadata": {},
   "source": [
    "### Slide 55"
   ]
  },
  {
   "cell_type": "code",
   "execution_count": null,
   "id": "ec11c7a1",
   "metadata": {},
   "outputs": [],
   "source": [
    "# First column (Column 0)\n",
    "print(activity_df.iloc[:,0])"
   ]
  },
  {
   "cell_type": "markdown",
   "id": "b650773d",
   "metadata": {},
   "source": [
    "### Slide 56"
   ]
  },
  {
   "cell_type": "code",
   "execution_count": 20,
   "id": "0cb904b6",
   "metadata": {
    "scrolled": true
   },
   "outputs": [
    {
     "name": "stdout",
     "output_type": "stream",
     "text": [
      "   sepal_length  sepal_width  petal_length  petal_width      species\n",
      "0           5.1          3.5           1.4          0.2  Iris-setosa\n",
      "1           4.9          3.0           1.4          0.2  Iris-setosa\n",
      "2           4.7          3.2           1.3          0.2  Iris-setosa\n",
      "3           4.6          3.1           1.5          0.2  Iris-setosa\n",
      "4           5.0          3.6           1.4          0.2  Iris-setosa\n"
     ]
    }
   ],
   "source": [
    "# The location of the data file\n",
    "filepath = 'data/iris_data.csv'\n",
    "# Import the data\n",
    "data = pd.read_csv(filepath)\n",
    "\n",
    "# Print a few rows \n",
    "print(data.iloc[:5])"
   ]
  },
  {
   "cell_type": "markdown",
   "id": "087f1929",
   "metadata": {},
   "source": [
    "### Slide 57"
   ]
  },
  {
   "cell_type": "code",
   "execution_count": 21,
   "id": "3c71e124",
   "metadata": {},
   "outputs": [
    {
     "name": "stdout",
     "output_type": "stream",
     "text": [
      "   petal_width      species  sepal_area\n",
      "0          0.2  Iris-setosa       17.85\n",
      "1          0.2  Iris-setosa       14.70\n",
      "2          0.2  Iris-setosa       15.04\n",
      "3          0.2  Iris-setosa       14.26\n",
      "4          0.2  Iris-setosa       18.00\n"
     ]
    }
   ],
   "source": [
    "# Create a new column that is a product \n",
    "# of both measurements\n",
    "data['sepal_area'] = data.sepal_length * data.sepal_width\n",
    "\n",
    "# Print a few rows and columns\n",
    "print(data.iloc[:5, -3:])"
   ]
  },
  {
   "cell_type": "markdown",
   "id": "ae4b78ec",
   "metadata": {},
   "source": [
    "### Slide 58"
   ]
  },
  {
   "cell_type": "code",
   "execution_count": 22,
   "id": "0540ce20",
   "metadata": {},
   "outputs": [
    {
     "name": "stdout",
     "output_type": "stream",
     "text": [
      "       species  sepal_area  abbrev\n",
      "0  Iris-setosa       17.85  setosa\n",
      "1  Iris-setosa       14.70  setosa\n",
      "2  Iris-setosa       15.04  setosa\n",
      "3  Iris-setosa       14.26  setosa\n",
      "4  Iris-setosa       18.00  setosa\n"
     ]
    }
   ],
   "source": [
    "# The lambda function applies what \n",
    "# follows it to each row of data\n",
    "data['abbrev'] = (data\n",
    "                 .species\n",
    "                 .apply(lambda x:\n",
    "                        x.replace('Iris-','')))\n",
    "# Note that there are other ways to \n",
    "# accomplish the above\n",
    "\n",
    "print(data.iloc[:5, -3:])"
   ]
  },
  {
   "cell_type": "markdown",
   "id": "97ab460f",
   "metadata": {},
   "source": [
    "### Slide 59"
   ]
  },
  {
   "cell_type": "code",
   "execution_count": 23,
   "id": "9e3e8f08",
   "metadata": {},
   "outputs": [
    {
     "name": "stdout",
     "output_type": "stream",
     "text": [
      "            species  sepal_area     abbrev\n",
      "0       Iris-setosa       17.85     setosa\n",
      "1       Iris-setosa       14.70     setosa\n",
      "148  Iris-virginica       21.08  virginica\n",
      "149  Iris-virginica       17.70  virginica\n"
     ]
    }
   ],
   "source": [
    "# Concatenate the first two and \n",
    "# last two rows\n",
    "small_data = pd.concat([data.iloc[:2], data.iloc[-2:]])\n",
    "print(small_data.iloc[:,-3:])"
   ]
  },
  {
   "cell_type": "markdown",
   "id": "94f35fae",
   "metadata": {},
   "source": [
    "### Slide 60"
   ]
  },
  {
   "cell_type": "code",
   "execution_count": 24,
   "id": "98ce4d77",
   "metadata": {},
   "outputs": [
    {
     "name": "stdout",
     "output_type": "stream",
     "text": [
      "species\n",
      "Iris-setosa        50\n",
      "Iris-versicolor    50\n",
      "Iris-virginica     50\n",
      "dtype: int64\n"
     ]
    }
   ],
   "source": [
    "# Use the size method with a \n",
    "# DataFrame to get count\n",
    "# For a Series, use the .value_counts \n",
    "# method\n",
    "group_sizes = (data.groupby('species').size())\n",
    "\n",
    "print(group_sizes)"
   ]
  },
  {
   "cell_type": "markdown",
   "id": "3a5e5ab8",
   "metadata": {},
   "source": [
    "### Slide 61"
   ]
  },
  {
   "cell_type": "code",
   "execution_count": 25,
   "id": "671bf93a",
   "metadata": {},
   "outputs": [
    {
     "name": "stdout",
     "output_type": "stream",
     "text": [
      "sepal_length     5.843333\n",
      "sepal_width      3.054000\n",
      "petal_length     3.758667\n",
      "petal_width      1.198667\n",
      "sepal_area      17.806533\n",
      "dtype: float64\n"
     ]
    }
   ],
   "source": [
    "# Mean calculated on a DataFrame\n",
    "print(data.mean())"
   ]
  },
  {
   "cell_type": "code",
   "execution_count": 26,
   "id": "34640ee5",
   "metadata": {},
   "outputs": [
    {
     "name": "stdout",
     "output_type": "stream",
     "text": [
      "4.35\n"
     ]
    }
   ],
   "source": [
    "# Median calculated on a Series\n",
    "print(data.petal_length.median())"
   ]
  },
  {
   "cell_type": "code",
   "execution_count": 27,
   "id": "b78a73f3",
   "metadata": {},
   "outputs": [
    {
     "name": "stdout",
     "output_type": "stream",
     "text": [
      "0    1.5\n",
      "dtype: float64\n"
     ]
    }
   ],
   "source": [
    "# Mode calculated on a Series\n",
    "print(data.petal_length.mode())"
   ]
  },
  {
   "cell_type": "code",
   "execution_count": 28,
   "id": "b733a900",
   "metadata": {},
   "outputs": [
    {
     "name": "stdout",
     "output_type": "stream",
     "text": [
      "1.7644204199522617 3.1131794183445156\n"
     ]
    }
   ],
   "source": [
    "# Standard dev, and variance on a series \n",
    "print(data.petal_length.std(),\n",
    "      data.petal_length.var())     "
   ]
  },
  {
   "cell_type": "markdown",
   "id": "824a50c2",
   "metadata": {},
   "source": [
    "### Slide 62"
   ]
  },
  {
   "cell_type": "code",
   "execution_count": 29,
   "id": "d09c84cc",
   "metadata": {},
   "outputs": [
    {
     "name": "stdout",
     "output_type": "stream",
     "text": [
      "       sepal_length  sepal_width  petal_length  petal_width  sepal_area\n",
      "count    150.000000   150.000000    150.000000   150.000000  150.000000\n",
      "mean       5.843333     3.054000      3.758667     1.198667   17.806533\n",
      "std        0.828066     0.433594      1.764420     0.763161    3.368693\n",
      "min        4.300000     2.000000      1.000000     0.100000   10.000000\n",
      "25%        5.100000     2.800000      1.600000     0.300000   15.645000\n",
      "50%        5.800000     3.000000      4.350000     1.300000   17.660000\n",
      "75%        6.400000     3.300000      5.100000     1.800000   20.325000\n",
      "max        7.900000     4.400000      6.900000     2.500000   30.020000\n"
     ]
    }
   ],
   "source": [
    "# Print statistical description\n",
    "print(data.describe())"
   ]
  },
  {
   "cell_type": "markdown",
   "id": "7842afa3",
   "metadata": {},
   "source": [
    "### Slide 63"
   ]
  },
  {
   "cell_type": "code",
   "execution_count": 34,
   "id": "bd7856f2",
   "metadata": {},
   "outputs": [
    {
     "data": {
      "image/png": "[encoded data removed]",
      "text/plain": [
       "<Figure size 432x288 with 1 Axes>"
      ]
     },
     "metadata": {
      "needs_background": "light"
     },
     "output_type": "display_data"
    }
   ],
   "source": [
    "%matplotlib inline\n",
    "import matplotlib.pyplot as plt\n",
    "import numpy as np\n",
    "\n",
    "x = np.linspace(-np.pi, np.pi, 50)\n",
    "y_sin = np.sin(x)\n",
    "y_cos = np.cos(x)\n",
    "\n",
    "plt.plot(x, y_sin, 'r*-', label= 'sin')\n",
    "plt.plot(x, y_cos, 'bo-', label= 'cos')\n",
    "plt.xlabel('x coordinates')\n",
    "plt.ylabel('y coordinates')\n",
    "plt.title('A Matplotlib example')\n",
    "plt.legend(loc='best')\n",
    "plt.grid(axis='both')\n",
    "plt.show()"
   ]
  },
  {
   "cell_type": "markdown",
   "id": "14f31fd2",
   "metadata": {},
   "source": [
    "### Slide 64"
   ]
  },
  {
   "cell_type": "code",
   "execution_count": 35,
   "id": "30a2d98c",
   "metadata": {},
   "outputs": [
    {
     "data": {
      "image/png": "[encoded data removed]",
      "text/plain": [
       "<Figure size 432x288 with 1 Axes>"
      ]
     },
     "metadata": {
      "needs_background": "light"
     },
     "output_type": "display_data"
    }
   ],
   "source": [
    "import matplotlib.pyplot as plt\n",
    "import numpy as np\n",
    "\n",
    "# Use a fixed random seed number\n",
    "np.random.seed(42)\n",
    "\n",
    "pts = np.random.randint(0, 20, (10, 2))\n",
    "\n",
    "plt.scatter(pts[:, 0], pts[:, 1], color='b', marker='*')\n",
    "plt.xlabel('x-coord')\n",
    "plt.ylabel('y-coord')\n",
    "plt.title('A Matplotlib scatterplot example')\n",
    "plt.grid(axis='both')\n",
    "plt.show()"
   ]
  },
  {
   "cell_type": "markdown",
   "id": "e1faf607",
   "metadata": {},
   "source": [
    "### Slide 64"
   ]
  },
  {
   "cell_type": "code",
   "execution_count": 36,
   "id": "d71d6618",
   "metadata": {},
   "outputs": [
    {
     "data": {
      "image/png": "[encoded data removed]",
      "text/plain": [
       "<Figure size 432x288 with 1 Axes>"
      ]
     },
     "metadata": {
      "needs_background": "light"
     },
     "output_type": "display_data"
    }
   ],
   "source": [
    "import matplotlib.pyplot as plt\n",
    "import numpy as np\n",
    "\n",
    "# Use a fixed random seed number\n",
    "np.random.seed(42)\n",
    "\n",
    "values = np.random.randint(0, 20, 100)\n",
    "bins_1 = np.arange(0, 21)\n",
    "\n",
    "plt.hist(values, color='b', bins=bins_1)\n",
    "plt.xlabel('Values')\n",
    "plt.ylabel('Frequency of occurrence')\n",
    "plt.title('A Matplotlib histogram example')\n",
    "plt.xticks(range(0, 20))\n",
    "plt.grid(axis='y')\n",
    "plt.show()"
   ]
  },
  {
   "cell_type": "code",
   "execution_count": 37,
   "id": "8476a33d",
   "metadata": {},
   "outputs": [
    {
     "data": {
      "image/png": "[encoded data removed]",
      "text/plain": [
       "<Figure size 432x288 with 1 Axes>"
      ]
     },
     "metadata": {
      "needs_background": "light"
     },
     "output_type": "display_data"
    }
   ],
   "source": [
    "import matplotlib.pyplot as plt\n",
    "\n",
    "x = ['A', 'B', 'C', 'F']\n",
    "y = [21, 42, 29, 8]\n",
    "\n",
    "plt.bar(x, y, color=['b', 'g', 'g', 'r'])\n",
    "plt.xlabel('Grade')\n",
    "plt.ylabel('No. of students')\n",
    "plt.title('Summary of results')\n",
    "plt.show()"
   ]
  },
  {
   "cell_type": "markdown",
   "id": "009787c1",
   "metadata": {},
   "source": [
    "### Slide 67"
   ]
  },
  {
   "cell_type": "code",
   "execution_count": 39,
   "id": "240d2ee3",
   "metadata": {},
   "outputs": [
    {
     "data": {
      "image/png": "[encoded data removed]",
      "text/plain": [
       "<Figure size 432x288 with 2 Axes>"
      ]
     },
     "metadata": {
      "needs_background": "light"
     },
     "output_type": "display_data"
    }
   ],
   "source": [
    "import matplotlib.pyplot as plt\n",
    "import numpy as np\n",
    "\n",
    "x = np.linspace(-np.pi, np.pi, 25)\n",
    "y_sin = np.sin(x)\n",
    "y_cos = np.cos(x)\n",
    "\n",
    "plt.subplot(2, 1, 1)\n",
    "plt.plot(x, y_sin, 'r.-')\n",
    "plt.title('Sine')\n",
    "\n",
    "plt.subplot(2, 1, 2)\n",
    "plt.plot(x, y_cos, 'b^-')\n",
    "plt.title('Cosine')\n",
    "\n",
    "plt.tight_layout()\n",
    "plt.show()"
   ]
  }
 ],
 "metadata": {
  "colab": {
   "include_colab_link": true,
   "name": "Chapter_2_1.ipynb",
   "provenance": []
  },
  "kernelspec": {
   "display_name": "Python 3",
   "language": "python",
   "name": "python3"
  },
  "language_info": {
   "codemirror_mode": {
    "name": "ipython",
    "version": 3
   },
   "file_extension": ".py",
   "mimetype": "text/x-python",
   "name": "python",
   "nbconvert_exporter": "python",
   "pygments_lexer": "ipython3",
   "version": "3.9.4"
  }
 },
 "nbformat": 4,
 "nbformat_minor": 5
}
