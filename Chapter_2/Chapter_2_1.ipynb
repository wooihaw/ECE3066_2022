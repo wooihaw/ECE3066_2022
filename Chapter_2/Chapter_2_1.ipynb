{
  "cells": [
    {
      "cell_type": "markdown",
      "metadata": {
        "id": "view-in-github",
        "colab_type": "text"
      },
      "source": [
        "<a href=\"https://colab.research.google.com/github/wooihaw/ECE3066_T2120/blob/main/Chapter_2/Chapter_2_1.ipynb\" target=\"_parent\"><img src=\"https://colab.research.google.com/assets/colab-badge.svg\" alt=\"Open In Colab\"/></a>"
      ]
    },
    {
      "cell_type": "markdown",
      "id": "61c0ca08",
      "metadata": {
        "id": "61c0ca08"
      },
      "source": [
        "# ECE3066 Artificial Intelligence Systems and Applications"
      ]
    },
    {
      "cell_type": "markdown",
      "id": "c7a8ee03",
      "metadata": {
        "id": "c7a8ee03"
      },
      "source": [
        "## Chapter 2 Part 1"
      ]
    },
    {
      "cell_type": "markdown",
      "id": "e0812719",
      "metadata": {
        "id": "e0812719"
      },
      "source": [
        "### Slide 16"
      ]
    },
    {
      "cell_type": "code",
      "execution_count": 1,
      "id": "72aacb39",
      "metadata": {
        "id": "72aacb39"
      },
      "outputs": [],
      "source": [
        "# A list is a collection of items in a specific order\n",
        "alist = [57, 4.6, 'Hello', -7.5, 'world']\n",
        "\n",
        "# A dictionary holds information in pairs of data called key-value pairs.\n",
        "adict = {'name': 'Tan', 'age':45}"
      ]
    },
    {
      "cell_type": "code",
      "source": [
        "print(type(alist), type(adict))"
      ],
      "metadata": {
        "id": "EOd25gbtL6hF",
        "outputId": "c2c669e9-484a-40b9-fcb7-d50e7808be98",
        "colab": {
          "base_uri": "https://localhost:8080/"
        }
      },
      "id": "EOd25gbtL6hF",
      "execution_count": 2,
      "outputs": [
        {
          "output_type": "stream",
          "name": "stdout",
          "text": [
            "<class 'list'> <class 'dict'>\n"
          ]
        }
      ]
    },
    {
      "cell_type": "markdown",
      "id": "b664e90c",
      "metadata": {
        "id": "b664e90c"
      },
      "source": [
        "### Slide 17"
      ]
    },
    {
      "cell_type": "code",
      "execution_count": 4,
      "id": "933aa1a9",
      "metadata": {
        "id": "933aa1a9"
      },
      "outputs": [],
      "source": [
        "# assign the integer value 3 to variable a\n",
        "a = 3\n",
        "# assign the decimal value 4.0 to variable b\n",
        "b = 4.0\n",
        "# assign the string 'Abc123' to variable c\n",
        "c = 'Abc123'"
      ]
    },
    {
      "cell_type": "code",
      "source": [
        "print(type(a), type(b), type(c))\n",
        "print(a.__sizeof__())"
      ],
      "metadata": {
        "id": "a5DKzb41MUuN",
        "outputId": "1d72e9d7-23e8-43d5-e374-d513f4e45d46",
        "colab": {
          "base_uri": "https://localhost:8080/"
        }
      },
      "id": "a5DKzb41MUuN",
      "execution_count": 7,
      "outputs": [
        {
          "output_type": "stream",
          "name": "stdout",
          "text": [
            "<class 'int'> <class 'float'> <class 'str'>\n",
            "28\n"
          ]
        }
      ]
    },
    {
      "cell_type": "markdown",
      "id": "9c440c30",
      "metadata": {
        "id": "9c440c30"
      },
      "source": [
        "### Slide 18"
      ]
    },
    {
      "cell_type": "code",
      "execution_count": 8,
      "id": "9e43627b",
      "metadata": {
        "id": "9e43627b",
        "outputId": "65f9f3c0-6f6f-4f37-f15f-5845b49c17b9",
        "colab": {
          "base_uri": "https://localhost:8080/"
        }
      },
      "outputs": [
        {
          "output_type": "stream",
          "name": "stdout",
          "text": [
            "<class 'int'>\n",
            "<class 'complex'>\n",
            "<class 'float'>\n"
          ]
        }
      ],
      "source": [
        "# Python supports multiple assignments:\n",
        "a = b = 0\n",
        "c, d = -3.4, 5 + 6j\n",
        "c, d = d, c\n",
        "\n",
        "# To determine the data type of a variable:\n",
        "print(type(a))\n",
        "print(type(c))\n",
        "print(type(d))\n",
        "\n",
        "# To convert between data types:\n",
        "a = 5\n",
        "b = float(a)\n",
        "c = str(a)\n",
        "d = int(23.4)"
      ]
    },
    {
      "cell_type": "markdown",
      "id": "c86871fa",
      "metadata": {
        "id": "c86871fa"
      },
      "source": [
        "### Slide 21"
      ]
    },
    {
      "cell_type": "code",
      "execution_count": 9,
      "id": "a6e8b5cb",
      "metadata": {
        "id": "a6e8b5cb",
        "outputId": "47620a22-121b-473d-8526-2a6e51a0ba5e",
        "colab": {
          "base_uri": "https://localhost:8080/"
        }
      },
      "outputs": [
        {
          "output_type": "stream",
          "name": "stdout",
          "text": [
            "6 apples cost $1.50\n",
            "6 apples cost $1.50\n"
          ]
        }
      ],
      "source": [
        "# Using format method:\n",
        "a, b, c = 6, 'apples', 1.5\n",
        "print('{} {} cost ${:.2f}'.format(a, b, c))\n",
        "\n",
        "# Using f-string for string formatting (Python 3.6 and above):\n",
        "a, b, c = 6, 'apples', 1.5\n",
        "print(f'{a} {b} cost ${c:.2f}')"
      ]
    },
    {
      "cell_type": "markdown",
      "id": "7491c39e",
      "metadata": {
        "id": "7491c39e"
      },
      "source": [
        "### Slide 23"
      ]
    },
    {
      "cell_type": "code",
      "execution_count": null,
      "id": "db6e3feb",
      "metadata": {
        "id": "db6e3feb"
      },
      "outputs": [],
      "source": [
        "mark = 51\n",
        "if mark >= 50:\n",
        "    print(\"You passed the test!\")\n",
        "else:\n",
        "    print(\"You failed the test!\")\n",
        "\n",
        "a = \"Passed\" if mark>=50 else \"Failed\""
      ]
    },
    {
      "cell_type": "markdown",
      "id": "3d945767",
      "metadata": {
        "id": "3d945767"
      },
      "source": [
        "### Slide 24"
      ]
    },
    {
      "cell_type": "code",
      "execution_count": null,
      "id": "0360fac0",
      "metadata": {
        "id": "0360fac0"
      },
      "outputs": [],
      "source": [
        "mark = 51\n",
        "if mark >= 70:\n",
        "    print(\"You scored an 'A'!\")\n",
        "elif mark >= 60:\n",
        "    print(\"You scored a 'B'!\")\n",
        "elif mark >= 50:\n",
        "    print(\"You scored a 'C'!\")\n",
        "else:\n",
        "    print(\"You failed the test!\")"
      ]
    },
    {
      "cell_type": "markdown",
      "id": "cbdf501d",
      "metadata": {
        "id": "cbdf501d"
      },
      "source": [
        "### Slide 25"
      ]
    },
    {
      "cell_type": "code",
      "execution_count": null,
      "id": "ee53bfa7",
      "metadata": {
        "id": "ee53bfa7"
      },
      "outputs": [],
      "source": [
        "range(5)\n",
        "range(1, 11)\n",
        "range(2, 10, 2)"
      ]
    },
    {
      "cell_type": "markdown",
      "id": "738d9109",
      "metadata": {
        "id": "738d9109"
      },
      "source": [
        "### Slide 26"
      ]
    },
    {
      "cell_type": "code",
      "execution_count": null,
      "id": "08c44977",
      "metadata": {
        "id": "08c44977"
      },
      "outputs": [],
      "source": [
        "# To print the numbers from 0 to 9:\n",
        "for i in range(10):\n",
        "    print(i)\n",
        "    \n",
        "# To print even number from 2 to 8:\n",
        "i = 0\n",
        "while i < 10:\n",
        "    i += 2\n",
        "    print(i)"
      ]
    },
    {
      "cell_type": "markdown",
      "id": "8a168bc8",
      "metadata": {
        "id": "8a168bc8"
      },
      "source": [
        "### Slide 27"
      ]
    },
    {
      "cell_type": "code",
      "execution_count": null,
      "id": "8d726503",
      "metadata": {
        "id": "8d726503"
      },
      "outputs": [],
      "source": [
        "# Using a loop to generate a list of square numbers:\n",
        "squares = []\n",
        "for i in range(1, 11):\n",
        "    squares.append(i**2)\n",
        "    \n",
        "# Using list comprehension to generate the same list:\n",
        "squares = [i**2 for i in range(1, 11)]\n",
        "\n",
        "# Using list comprehension to capitalize the first alphabet of the names in a list:\n",
        "names = ['ali', 'bala', 'chan', 'david']\n",
        "cap_names = [n.capitalize() for n in names]\n",
        "print(cap_names)"
      ]
    },
    {
      "cell_type": "markdown",
      "id": "01784ca5",
      "metadata": {
        "id": "01784ca5"
      },
      "source": [
        "### Slide 30"
      ]
    },
    {
      "cell_type": "code",
      "execution_count": null,
      "id": "68932d19",
      "metadata": {
        "id": "68932d19"
      },
      "outputs": [],
      "source": [
        "# Read and store the contents of a file as a string:\n",
        "with open('atext.txt', 'r') as f:\n",
        "    astring = f.read() # including newline character\n",
        "\n",
        "# Read one line of a file and store it as a string:\n",
        "with open('atext.txt', 'r') as f:\n",
        "    astring2 = f.readline()  # including newline character\n",
        "\n",
        "# Read and store the contents of a file as a list of lines:\n",
        "with open('atext.txt', 'r') as f:\n",
        "    alist = f.readlines() # including newline character"
      ]
    },
    {
      "cell_type": "markdown",
      "id": "df62f289",
      "metadata": {
        "id": "df62f289"
      },
      "source": [
        "### Slide 31"
      ]
    },
    {
      "cell_type": "code",
      "execution_count": null,
      "id": "d7e33acf",
      "metadata": {
        "id": "d7e33acf"
      },
      "outputs": [],
      "source": [
        "# Write a string to a file:\n",
        "with open('atext.txt', 'w') as f:\n",
        "    f.write(astring) # newline character is not appended\n",
        "\n",
        "# Write a list to a file:\n",
        "with open('atext.txt', 'w') as f:\n",
        "    f.writelines(alist)  # newline character is not appended"
      ]
    }
  ],
  "metadata": {
    "kernelspec": {
      "display_name": "Python 3",
      "language": "python",
      "name": "python3"
    },
    "language_info": {
      "codemirror_mode": {
        "name": "ipython",
        "version": 3
      },
      "file_extension": ".py",
      "mimetype": "text/x-python",
      "name": "python",
      "nbconvert_exporter": "python",
      "pygments_lexer": "ipython3",
      "version": "3.9.4"
    },
    "colab": {
      "name": "Chapter_2_1.ipynb",
      "provenance": [],
      "include_colab_link": true
    }
  },
  "nbformat": 4,
  "nbformat_minor": 5
}