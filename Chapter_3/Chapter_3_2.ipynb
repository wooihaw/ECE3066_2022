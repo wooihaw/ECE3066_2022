{
 "cells": [
  {
   "cell_type": "markdown",
   "id": "d2a840bb",
   "metadata": {},
   "source": [
    "# Table of Contents\n",
    "* [Naive Bayes](#naive-bayes)\n",
    "* [Support Vector Machines](#svm)\n",
    "* [Decision Tree](#decision-tree)\n",
    "* [Random Forest](#random-forest)\n",
    "* [Gradient Boosting Tree](#gradient-boosting)\n",
    "* [Voting Classifier](#voting-classifier)\n",
    "* [k-Means Clustering](#kmeans-clustering)\n",
    "* [Principal Component Analysis](#pca)\n",
    "* [Machine Learning Pipeline](#ml-pipeline)"
   ]
  },
  {
   "cell_type": "code",
   "execution_count": 1,
   "id": "c1188f21",
   "metadata": {},
   "outputs": [],
   "source": [
    "# Initialization\n",
    "%matplotlib inline\n",
    "from warnings import filterwarnings\n",
    "filterwarnings('ignore')"
   ]
  },
  {
   "cell_type": "markdown",
   "id": "da36a1b7",
   "metadata": {},
   "source": [
    "## Naive Bayes <a class=\"anchor\" id=\"naive-bayes\"></a>"
   ]
  },
  {
   "cell_type": "code",
   "execution_count": 2,
   "id": "2e94c238",
   "metadata": {},
   "outputs": [
    {
     "name": "stdout",
     "output_type": "stream",
     "text": [
      "Accuracy: 73.44 %\n"
     ]
    }
   ],
   "source": [
    "from pandas import read_csv\n",
    "from sklearn.model_selection import train_test_split as split\n",
    "from sklearn.naive_bayes import GaussianNB\n",
    "names = ['preg', 'plas', 'pres', 'skin', 'test', 'mass', 'pedi', 'age', 'class']\n",
    "df = read_csv('data/pima-indians-diabetes.data.csv', names=names)\n",
    "array = df.values\n",
    "X = array[:,:-1]\n",
    "y = array[:,-1]\n",
    "X_train, X_test, y_train, y_test = split(X, y, test_size=0.25, random_state=42)\n",
    "gnb = GaussianNB().fit(X_train, y_train)\n",
    "print(f'Accuracy: {100 * gnb.score(X_test, y_test):.2f} %')"
   ]
  },
  {
   "cell_type": "markdown",
   "id": "e76ff89d",
   "metadata": {},
   "source": [
    "## Support Vector Machine <a class=\"anchor\" id=\"svm\"></a>"
   ]
  },
  {
   "cell_type": "code",
   "execution_count": 3,
   "id": "c66bf288",
   "metadata": {},
   "outputs": [
    {
     "name": "stdout",
     "output_type": "stream",
     "text": [
      "Accuracy: 72.92 %\n"
     ]
    }
   ],
   "source": [
    "# Support Vector Classifier\n",
    "from pandas import read_csv\n",
    "from sklearn.model_selection import train_test_split as split\n",
    "from sklearn.svm import SVC\n",
    "names = ['preg', 'plas', 'pres', 'skin', 'test', 'mass', 'pedi', 'age', 'class']\n",
    "df = read_csv('data/pima-indians-diabetes.data.csv', names=names)\n",
    "array = df.values\n",
    "X = array[:,:-1]\n",
    "y = array[:,-1]\n",
    "X_train, X_test, y_train, y_test = split(X, y, test_size=0.25, random_state=42)\n",
    "svc = SVC().fit(X_train, y_train)\n",
    "print(f'Accuracy: {100 * svc.score(X_test, y_test):.2f} %')"
   ]
  },
  {
   "cell_type": "markdown",
   "id": "2f7ebdee",
   "metadata": {},
   "source": [
    "## Decision Tree <a class=\"anchor\" id=\"decision-tree\"></a>"
   ]
  },
  {
   "cell_type": "code",
   "execution_count": 4,
   "id": "4eef5a2e",
   "metadata": {},
   "outputs": [
    {
     "name": "stdout",
     "output_type": "stream",
     "text": [
      "Accuracy: 69.27 %\n"
     ]
    }
   ],
   "source": [
    "# Decision Tree Classification\n",
    "from pandas import read_csv\n",
    "from sklearn.model_selection import train_test_split as split\n",
    "from sklearn.tree import DecisionTreeClassifier\n",
    "names = ['preg', 'plas', 'pres', 'skin', 'test', 'mass', 'pedi', 'age', 'class']\n",
    "df = read_csv('data/pima-indians-diabetes.data.csv', names=names)\n",
    "array = df.values\n",
    "X = array[:,:-1]\n",
    "y = array[:,-1]\n",
    "X_train, X_test, y_train, y_test = split(X, y, test_size=0.25, random_state=42)\n",
    "dtc = DecisionTreeClassifier(max_leaf_nodes=6, random_state=42).fit(X_train, y_train)\n",
    "print(f'Accuracy: {100 * dtc.score(X_test, y_test):.2f} %')"
   ]
  },
  {
   "cell_type": "markdown",
   "id": "ce1d0c95",
   "metadata": {},
   "source": [
    "## Random Forest <a class=\"anchor\" id=\"random-forest\"></a>"
   ]
  },
  {
   "cell_type": "code",
   "execution_count": 5,
   "id": "659bdaf3",
   "metadata": {},
   "outputs": [
    {
     "name": "stdout",
     "output_type": "stream",
     "text": [
      "Accuracy: 75.00 %\n"
     ]
    }
   ],
   "source": [
    "# Random Forest Classification\n",
    "from pandas import read_csv\n",
    "from sklearn.model_selection import train_test_split as split\n",
    "from sklearn.ensemble import RandomForestClassifier\n",
    "names = ['preg', 'plas', 'pres', 'skin', 'test', 'mass', 'pedi', 'age', 'class']\n",
    "df = read_csv('data/pima-indians-diabetes.data.csv', names=names)\n",
    "array = df.values\n",
    "X = array[:,:-1]\n",
    "y = array[:,-1]\n",
    "X_train, X_test, y_train, y_test = split(X, y, test_size=0.25, random_state=42)\n",
    "rfc = RandomForestClassifier(max_leaf_nodes=6, random_state=42).fit(X_train, y_train)\n",
    "print(f'Accuracy: {100 * rfc.score(X_test, y_test):.2f} %')"
   ]
  },
  {
   "cell_type": "markdown",
   "id": "6dda380c",
   "metadata": {},
   "source": [
    "## Gradient Boosting Tree <a class=\"anchor\" id=\"gradient-boosting\"></a>"
   ]
  },
  {
   "cell_type": "code",
   "execution_count": 6,
   "id": "b4d161ba",
   "metadata": {},
   "outputs": [
    {
     "name": "stdout",
     "output_type": "stream",
     "text": [
      "Accuracy: 74.48 %\n"
     ]
    }
   ],
   "source": [
    "# Gradient Boosting Tree Classification\n",
    "from pandas import read_csv\n",
    "from sklearn.model_selection import train_test_split as split\n",
    "from sklearn.ensemble import GradientBoostingClassifier\n",
    "names = ['preg', 'plas', 'pres', 'skin', 'test', 'mass', 'pedi', 'age', 'class']\n",
    "df = read_csv('data/pima-indians-diabetes.data.csv', names=names)\n",
    "array = df.values\n",
    "X = array[:,:-1]\n",
    "y = array[:,-1]\n",
    "X_train, X_test, y_train, y_test = split(X, y, test_size=0.25, random_state=42)\n",
    "gbc = GradientBoostingClassifier(max_depth=2, random_state=42).fit(X_train, y_train)\n",
    "print(f'Accuracy: {100 * gbc.score(X_test, y_test):.2f} %')"
   ]
  },
  {
   "cell_type": "markdown",
   "id": "4b1ae13a",
   "metadata": {},
   "source": [
    "## Voting Classifier <a class=\"anchor\" id=\"voting-classifier\"></a>"
   ]
  },
  {
   "cell_type": "code",
   "execution_count": 7,
   "id": "7141ce36",
   "metadata": {},
   "outputs": [
    {
     "name": "stdout",
     "output_type": "stream",
     "text": [
      "Accuracy: 75.00 %\n"
     ]
    }
   ],
   "source": [
    "# Voting Classifier\n",
    "from pandas import read_csv\n",
    "from sklearn.model_selection import train_test_split as split\n",
    "from sklearn.ensemble import VotingClassifier\n",
    "from sklearn.linear_model import LogisticRegression\n",
    "from sklearn.naive_bayes import GaussianNB\n",
    "names = ['preg', 'plas', 'pres', 'skin', 'test', 'mass', 'pedi', 'age', 'class']\n",
    "df = read_csv('data/pima-indians-diabetes.data.csv', names=names)\n",
    "array = df.values\n",
    "X = array[:,:-1]\n",
    "y = array[:,-1]\n",
    "X_train, X_test, y_train, y_test = split(X, y, test_size=0.25, random_state=42)\n",
    "clf1 = LogisticRegression()\n",
    "clf2 = GaussianNB()\n",
    "vtc = VotingClassifier(estimators=[('lgr', clf1), ('gnb', clf2)], voting='soft').fit(X_train, y_train)\n",
    "print(f'Accuracy: {100 * rfc.score(X_test, y_test):.2f} %')"
   ]
  },
  {
   "cell_type": "markdown",
   "id": "1d86ee36",
   "metadata": {},
   "source": [
    "## k-Means Clustering <a class=\"anchor\" id=\"kmeans-clustering\"></a>"
   ]
  },
  {
   "cell_type": "code",
   "execution_count": null,
   "id": "1450f4b5",
   "metadata": {},
   "outputs": [],
   "source": [
    "from sklearn.cluster import KMeans\n",
    "from sklearn.datasets import make_blobs\n",
    "import matplotlib.pyplot as plt\n",
    "X, y = make_blobs(centers=3, cluster_std=2, random_state=42)\n",
    "km = KMeans(n_clusters=3).fit(X)\n",
    "\n",
    "fig, (ax1, ax2) = plt.subplots(1, 2, figsize=(8, 4))\n",
    "fig.suptitle('k-means Clustering')\n",
    "ax1.scatter(X[:, 0], X[:, 1])\n",
    "ax1.set_title('Before clustering')\n",
    "ax2.scatter(X[:, 0], X[:, 1], c=km.labels_)\n",
    "ax2.set_title('After clustering')"
   ]
  },
  {
   "cell_type": "markdown",
   "id": "4e5007d1",
   "metadata": {},
   "source": [
    "## Principal Component Analysis <a class=\"anchor\" id=\"pca\"></a>"
   ]
  },
  {
   "cell_type": "code",
   "execution_count": null,
   "id": "ae884cee",
   "metadata": {},
   "outputs": [],
   "source": [
    "# Dimensionality reduction using PCA\n",
    "from sklearn.decomposition import PCA\n",
    "from sklearn.datasets import load_digits\n",
    "\n",
    "X, y = load_digits(return_X_y=True)\n",
    "\n",
    "pca = PCA(n_components=24)\n",
    "X_reduced = pca.fit_transform(X)\n",
    "\n",
    "print(X.shape, X_reduced.shape)\n",
    "print(pca.explained_variance_ratio_.sum())"
   ]
  },
  {
   "cell_type": "markdown",
   "id": "661e3ebe",
   "metadata": {},
   "source": [
    "## Machine Learning Pipeline <a class=\"anchor\" id=\"ml-pipeline\"></a>"
   ]
  },
  {
   "attachments": {
    "image.png": {
     "image/png": "[encoded data removed]"
    }
   },
   "cell_type": "markdown",
   "id": "081d5441",
   "metadata": {},
   "source": [
    "![image.png](attachment:image.png)"
   ]
  },
  {
   "cell_type": "code",
   "execution_count": null,
   "id": "425b138b",
   "metadata": {},
   "outputs": [],
   "source": [
    "# Without pipeline\n",
    "from pandas import read_csv\n",
    "from sklearn.preprocessing import MinMaxScaler\n",
    "from sklearn.decomposition import PCA\n",
    "from sklearn.model_selection import train_test_split as split\n",
    "from sklearn.neighbors import KNeighborsClassifier\n",
    "names = ['preg', 'plas', 'pres', 'skin', 'test', 'mass', 'pedi', 'age', 'class']\n",
    "df = read_csv('data/pima-indians-diabetes.data.csv', names=names)\n",
    "array = df.values\n",
    "X = array[:,:-1]\n",
    "y = array[:,-1]\n",
    "X_train, X_test, y_train, y_test = split(X, y, test_size=0.25, random_state=42)\n",
    "scl = MinMaxScaler() \n",
    "X_train_scl = scl.fit_transform(X_train)\n",
    "X_test_scl = scl.transform(X_test)\n",
    "\n",
    "dr = PCA(n_components=5)\n",
    "X_train_dr = dr.fit_transform(X_train_scl)\n",
    "X_test_dr = dr.transform(X_test_scl)\n",
    "\n",
    "clf = KNeighborsClassifier().fit(X_train_dr, y_train)\n",
    "print(f'Accuracy: {100 * clf.score(X_test_dr, y_test):.2f} %')"
   ]
  },
  {
   "attachments": {
    "image-2.png": {
     "image/png": "[encoded data removed]"
    }
   },
   "cell_type": "markdown",
   "id": "7ffb2d54",
   "metadata": {},
   "source": [
    "![image-2.png](attachment:image-2.png)"
   ]
  },
  {
   "cell_type": "code",
   "execution_count": null,
   "id": "f1b95360",
   "metadata": {},
   "outputs": [],
   "source": [
    "# With pipeline\n",
    "from pandas import read_csv\n",
    "from sklearn.preprocessing import MinMaxScaler\n",
    "from sklearn.decomposition import PCA\n",
    "from sklearn.model_selection import train_test_split as split\n",
    "from sklearn.neighbors import KNeighborsClassifier\n",
    "from sklearn.pipeline import Pipeline\n",
    "names = ['preg', 'plas', 'pres', 'skin', 'test', 'mass', 'pedi', 'age', 'class']\n",
    "df = read_csv('data/pima-indians-diabetes.data.csv', names=names)\n",
    "array = df.values\n",
    "X = array[:,:-1]\n",
    "y = array[:,-1]\n",
    "X_train, X_test, y_train, y_test = split(X, y, test_size=0.25, random_state=42)\n",
    "\n",
    "# Make pipeline\n",
    "pipe = Pipeline([('scl', MinMaxScaler()), ('dr', PCA(n_components=5)), ('clf', KNeighborsClassifier())])\n",
    "\n",
    "pipe.fit(X_train, y_train)\n",
    "print(f'Accuracy: {100 * pipe.score(X_test, y_test):.2f} %')"
   ]
  }
 ],
 "metadata": {
  "kernelspec": {
   "display_name": "Python 3",
   "language": "python",
   "name": "python3"
  },
  "language_info": {
   "codemirror_mode": {
    "name": "ipython",
    "version": 3
   },
   "file_extension": ".py",
   "mimetype": "text/x-python",
   "name": "python",
   "nbconvert_exporter": "python",
   "pygments_lexer": "ipython3",
   "version": "3.9.4"
  }
 },
 "nbformat": 4,
 "nbformat_minor": 5
}
