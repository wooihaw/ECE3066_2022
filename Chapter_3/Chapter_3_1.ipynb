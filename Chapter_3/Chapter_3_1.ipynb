{
 "cells": [
  {
   "cell_type": "markdown",
   "id": "2a7c0f91",
   "metadata": {},
   "source": [
    "# Table of Contents\n",
    "* [Linear Regression](#linear-regression)\n",
    "* [k-NN Regressor](#knn-regressor)\n",
    "* [Logistic Regression](#logistic-regression)\n",
    "* [k-NN Classifier](#knn-classifier)"
   ]
  },
  {
   "cell_type": "code",
   "execution_count": null,
   "id": "0d3febd4",
   "metadata": {},
   "outputs": [],
   "source": [
    "# Initialization\n",
    "%matplotlib inline\n",
    "from warnings import filterwarnings\n",
    "filterwarnings('ignore')"
   ]
  },
  {
   "cell_type": "markdown",
   "id": "ef59a038",
   "metadata": {},
   "source": [
    "## Linear Regression <a class=\"anchor\" id=\"linear-regression\"></a>"
   ]
  },
  {
   "cell_type": "code",
   "execution_count": null,
   "id": "86b73f10",
   "metadata": {},
   "outputs": [],
   "source": [
    "from sklearn.datasets import load_boston\n",
    "from sklearn.model_selection import train_test_split as split\n",
    "from sklearn.linear_model import LinearRegression\n",
    "X, y = load_boston(return_X_y=True)\n",
    "X_train, X_test, y_train, y_test = split(X, y, test_size=0.25, random_state=42)\n",
    "lnr = LinearRegression().fit(X_train, y_train)\n",
    "print(f'R2 score: {lnr.score(X_test, y_test):.2f}')"
   ]
  },
  {
   "cell_type": "markdown",
   "id": "3ad54968",
   "metadata": {},
   "source": [
    "## k-NN Regressor <a class=\"anchor\" id=\"knn-regressor\"></a>"
   ]
  },
  {
   "cell_type": "code",
   "execution_count": null,
   "id": "b14f1d20",
   "metadata": {},
   "outputs": [],
   "source": [
    "from sklearn.datasets import load_boston\n",
    "from sklearn.model_selection import train_test_split as split\n",
    "from sklearn.neighbors import KNeighborsRegressor\n",
    "X, y = load_boston(return_X_y=True)\n",
    "X_train, X_test, y_train, y_test = split(X, y, test_size=0.25, random_state=42)\n",
    "knn = KNeighborsRegressor(n_neighbors=5).fit(X_train, y_train)\n",
    "print(f'R2 score: {knn.score(X_test, y_test):.2f}')"
   ]
  },
  {
   "cell_type": "markdown",
   "id": "821fd5c1",
   "metadata": {},
   "source": [
    "## Logistic Regression <a class=\"anchor\" id=\"logistic-regression\"></a>"
   ]
  },
  {
   "cell_type": "code",
   "execution_count": null,
   "id": "cbe2fef1",
   "metadata": {},
   "outputs": [],
   "source": [
    "from pandas import read_csv\n",
    "from sklearn.model_selection import train_test_split as split\n",
    "from sklearn.linear_model import LogisticRegression\n",
    "names = ['preg', 'plas', 'pres', 'skin', 'test', 'mass', 'pedi', 'age', 'class']\n",
    "df = read_csv('data/pima-indians-diabetes.data.csv', names=names)\n",
    "array = df.values\n",
    "X = array[:,:-1]\n",
    "y = array[:,-1]\n",
    "X_train, X_test, y_train, y_test = split(X, y, test_size=0.25, random_state=42)\n",
    "lgr = LogisticRegression().fit(X_train, y_train)\n",
    "print(f'Accuracy: {100 * lgr.score(X_test, y_test):.2f} %')"
   ]
  },
  {
   "attachments": {},
   "cell_type": "markdown",
   "id": "44d08e70",
   "metadata": {},
   "source": [
    "## k-NN Classifier <a class=\"anchor\" id=\"knn-classifier\"></a>"
   ]
  },
  {
   "cell_type": "code",
   "execution_count": null,
   "id": "2fa4e4c4",
   "metadata": {},
   "outputs": [],
   "source": [
    "from pandas import read_csv\n",
    "from sklearn.model_selection import train_test_split as split\n",
    "from sklearn.neighbors import KNeighborsClassifier\n",
    "names = ['preg', 'plas', 'pres', 'skin', 'test', 'mass', 'pedi', 'age', 'class']\n",
    "df = read_csv('data/pima-indians-diabetes.data.csv', names=names)\n",
    "array = df.values\n",
    "X = array[:,:-1]\n",
    "y = array[:,-1]\n",
    "X_train, X_test, y_train, y_test = split(X, y, test_size=0.25, random_state=42)\n",
    "knn = KNeighborsClassifier().fit(X_train, y_train)\n",
    "print(f'Accuracy: {100 * knn.score(X_test, y_test):.2f} %')"
   ]
  }
 ],
 "metadata": {
  "kernelspec": {
   "display_name": "Python 3",
   "language": "python",
   "name": "python3"
  },
  "language_info": {
   "codemirror_mode": {
    "name": "ipython",
    "version": 3
   },
   "file_extension": ".py",
   "mimetype": "text/x-python",
   "name": "python",
   "nbconvert_exporter": "python",
   "pygments_lexer": "ipython3",
   "version": "3.9.4"
  }
 },
 "nbformat": 4,
 "nbformat_minor": 5
}
